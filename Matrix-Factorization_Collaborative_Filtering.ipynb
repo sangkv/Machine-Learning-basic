{
 "cells": [
  {
   "cell_type": "code",
   "execution_count": 5,
   "metadata": {},
   "outputs": [],
   "source": [
    "import numpy as np\n",
    "import pandas as pd\n",
    "from sklearn.metrics.pairwise import cosine_similarity\n",
    "from scipy import sparse\n",
    "\n",
    "import warnings\n",
    "warnings.filterwarnings('ignore')"
   ]
  },
  {
   "cell_type": "code",
   "execution_count": 6,
   "metadata": {},
   "outputs": [],
   "source": [
    "class MF(object):\n",
    "    \"\"\"\n",
    "    docstring for CF\n",
    "    \"\"\"\n",
    "    def __init__(self, Y_data, K, lam = 0.1, Xinit = None, Winit = None,\n",
    "                learning_rate = 0.5, max_iter = 1000, print_every = 100, user_based = 1):\n",
    "        self.Y_raw_data = Y_data\n",
    "        self.K = K\n",
    "        # regularization parameter\n",
    "        self.lam = lam\n",
    "        # learning rate for gradient descent\n",
    "        self.learning_rate = learning_rate\n",
    "        # maximum number of iterations\n",
    "        self.max_iter = max_iter\n",
    "        # print results after print_every iterations\n",
    "        self.print_every = print_every\n",
    "        # user-based or item-based\n",
    "        self.user_based = user_based\n",
    "        # number of users, items, and ratings. Remember to add 1 since id starts from 0\n",
    "        self.n_users = int(np.max(Y_data[:, 0])) + 1\n",
    "        self.n_items = int(np.max(Y_data[:, 1])) + 1\n",
    "        self.n_ratings = Y_data.shape[0]\n",
    "        \n",
    "        if Xinit is None: # new\n",
    "            self.X = np.random.randn(self.n_items, K)\n",
    "        else: # or from saved data\n",
    "            self.X = Xinit\n",
    "            \n",
    "        if Winit is None:\n",
    "            self.W = np.random.randn(K, self.n_users)\n",
    "        else: # from saved data\n",
    "            self.W = Winit\n",
    "            \n",
    "        # normalized data, update later in normalized_Y function\n",
    "        self.Y_data_n = self.Y_raw_data.copy()\n",
    "        \n",
    "    def normalize_Y(self):\n",
    "        if self.user_based:\n",
    "            user_col = 0\n",
    "            item_col = 1\n",
    "            n_objects = self.n_users\n",
    "            \n",
    "        # if we want to normalize based on item, just switch first two columns of data\n",
    "        else: # item bas\n",
    "            user_col = 1\n",
    "            item_col = 0\n",
    "            n_objects = self.n_items\n",
    "            \n",
    "        users = self.Y_raw_data[:, user_col]\n",
    "        self.mu = np.zeros((n_objects,))\n",
    "        for n in range(n_objects):\n",
    "            # row indices of rating done by user n\n",
    "            # since indices need to be integers, we need to convert\n",
    "            ids = np.where(users == n)[0].astype(np.int32)\n",
    "            # indices of all ratings associated with user n\n",
    "            item_ids = self.Y_data_n[ids, item_col]\n",
    "            # and the corresponding ratings\n",
    "            ratings = self.Y_data_n[ids, 2]\n",
    "            # take mean\n",
    "            m = np.mean(ratings)\n",
    "            if np.isnan(m):\n",
    "                m = 0 # to avoid empty array and nan value\n",
    "            self.mu[n] = m\n",
    "            # normalize\n",
    "            self.Y_data_n[ids, 2] = ratings - self.mu[n]\n",
    "    \n",
    "    # Tính giá trị hàm mất mát\n",
    "    def loss(self):\n",
    "        L = 0\n",
    "        for i in range(self.n_ratings):\n",
    "            # user, item, rating\n",
    "            n, m, rate = int(self.Y_data_n[i, 0]), int(self.Y_data_n[i, 1]), self.Y_data_n[i, 2]\n",
    "            L += 0.5*(rate - self.X[m, :].dot(self.W[:, n]))**2\n",
    "            \n",
    "        # take average\n",
    "        L /= self.n_ratings\n",
    "        # regularization, don't ever forget this\n",
    "        L += 0.5*self.lam*(np.linalg.norm(self.X, 'fro') + np.linalg.norm(self.W, 'fro'))\n",
    "        return L\n",
    "    \n",
    "    def get_items_rated_by_user(self, user_id):\n",
    "        \"\"\"\n",
    "        get all items which are rated by user user_id, and the corresponding ratings\n",
    "        \"\"\"\n",
    "        ids = np.where(self.Y_data_n[:, 0] == user_id)[0]\n",
    "        item_ids = self.Y_data_n[ids, 1].astype(np.int32) # indices need to be integers\n",
    "        ratings = self.Y_data_n[ids, 2]\n",
    "        return (item_ids, ratings)\n",
    "    \n",
    "    def get_users_who_rate_item(self, item_id):\n",
    "        \"\"\"\n",
    "        get all users who rated item item_id and get the corresponding ratings\n",
    "        \"\"\"\n",
    "        ids = np.where(self.Y_data_n[:, 1] == item_id)[0]\n",
    "        user_ids = self.Y_data_n[ids, 0].astype(np.int32)\n",
    "        ratings = self.Y_data_n[ids, 2]\n",
    "        return (user_ids, ratings)\n",
    "    \n",
    "    # Cập nhật X, W:\n",
    "    def updateX(self):\n",
    "        for m in range(self.n_items):\n",
    "            user_ids, ratings = self.get_users_who_rate_item(m)\n",
    "            Wm = self.W[:, user_ids]\n",
    "            # gradient\n",
    "            grad_xm = -(ratings - self.X[m, :].dot(Wm)).dot(Wm.T)/self.n_ratings + self.lam*self.X[m, :]\n",
    "            self.X[m, :] -= self.learning_rate*grad_xm.reshape((self.K,))\n",
    "            \n",
    "    def updateW(self):\n",
    "        for n in range(self.n_users):\n",
    "            item_ids, ratings = self.get_items_rated_by_user(n)\n",
    "            Xn = self.X[item_ids, :]\n",
    "            # gradient\n",
    "            grad_wn = -Xn.T.dot(ratings - Xn.dot(self.W[:, n]))/self.n_ratings + self.lam*self.W[:, n]\n",
    "            self.W[:, n] -= self.learning_rate*grad_wn.reshape((self.K,))\n",
    "            \n",
    "    # Train model\n",
    "    def fit(self):\n",
    "        self.normalize_Y()\n",
    "        for it in range(self.max_iter):\n",
    "            self.updateX()\n",
    "            self.updateW()\n",
    "            if (it + 1) % self.print_every == 0:\n",
    "                rmse_train = self.evaluate_RMSE(self.Y_raw_data)\n",
    "                print(\"iter = \", it + 1, \", loss = \", self.loss(), \", RMSE train = \", rmse_train)\n",
    "                \n",
    "    # Predict\n",
    "    def pred(self, u, i):\n",
    "        \"\"\"\n",
    "        predict the rating of user u for item i if you need the un\n",
    "        \"\"\"\n",
    "        u = int(u)\n",
    "        i = int(i)\n",
    "        if self.user_based:\n",
    "            bias = self.mu[u]\n",
    "        else:\n",
    "            bias = self.mu[i]\n",
    "        pred = self.X[i, :].dot(self.W[:, u]) + bias\n",
    "        \n",
    "        # truncate if results are out of range [0, 5]\n",
    "        if pred < 0:\n",
    "            return 0\n",
    "        if pred > 5:\n",
    "            return 5\n",
    "        return pred\n",
    "    \n",
    "    def pred_for_user(self, user_id):\n",
    "        \"\"\"\n",
    "        predict ratings one user give all unrated items\n",
    "        \"\"\"\n",
    "        ids = np.where(self.Y_data_n[:, 0] == user_id)[0]\n",
    "        items_rated_by_u = self.Y_data_n[ids, 1].tolist()\n",
    "        \n",
    "        y_pred = self.X.dot(self.W[:, user_id]) + self.mu[user_id]\n",
    "        predicted_ratings = []\n",
    "        for i in range(self.n_items):\n",
    "            if i not in items_rated_by_u:\n",
    "                predicted_ratings.append((i, y_pred[i]))\n",
    "                \n",
    "        return predicted_ratings\n",
    "    \n",
    "    # Evaluate by Root Mean Square Error:\n",
    "    def evaluate_RMSE(self, rate_test):\n",
    "        n_tests = rate_test.shape[0]\n",
    "        SE = 0 # squared error\n",
    "        for n in range(n_tests):\n",
    "            pred = self.pred(rate_test[n, 0], rate_test[n, 1])\n",
    "            SE += (pred - rate_test[n, 2])**2\n",
    "            \n",
    "        RMSE = np.sqrt(SE/n_tests)\n",
    "        return RMSE"
   ]
  },
  {
   "cell_type": "markdown",
   "metadata": {},
   "source": [
    "### Áp dụng lên MovieLens 100k"
   ]
  },
  {
   "cell_type": "code",
   "execution_count": 7,
   "metadata": {},
   "outputs": [],
   "source": [
    "r_cols = ['user_id', 'movie_id', 'rating', 'unix_timestamp']\n",
    "\n",
    "ratings_base = pd.read_csv('./data/ml-100k/ub.base', sep='\\t', names=r_cols, encoding='latin-1')\n",
    "ratings_test = pd.read_csv('./data/ml-100k/ub.test', sep='\\t', names=r_cols, encoding='latin-1')\n",
    "\n",
    "rate_train = ratings_base.as_matrix()\n",
    "rate_test = ratings_test.as_matrix()\n",
    "\n",
    "# indices start from 0\n",
    "rate_train[:, :2] -= 1\n",
    "rate_test[:, :2] -= 1"
   ]
  },
  {
   "cell_type": "code",
   "execution_count": 8,
   "metadata": {},
   "outputs": [
    {
     "name": "stdout",
     "output_type": "stream",
     "text": [
      "iter =  10 , loss =  5.657003948397523 , RMSE train =  1.2105229281312695\n",
      "iter =  20 , loss =  2.6395928062641483 , RMSE train =  1.038204214929954\n",
      "iter =  30 , loss =  1.3434492392077713 , RMSE train =  1.029556067071639\n",
      "iter =  40 , loss =  0.7529050219316648 , RMSE train =  1.0292157498066743\n",
      "iter =  50 , loss =  0.4822509285285253 , RMSE train =  1.029211157327278\n",
      "iter =  60 , loss =  0.3581369241366188 , RMSE train =  1.0292134349728985\n",
      "iter =  70 , loss =  0.3012193811923922 , RMSE train =  1.029214116664837\n",
      "iter =  80 , loss =  0.275117563590574 , RMSE train =  1.0292142814548007\n",
      "iter =  90 , loss =  0.2631475676579398 , RMSE train =  1.0292143196799473\n",
      "iter =  100 , loss =  0.25765827249171996 , RMSE train =  1.0292143284281277\n",
      "\n",
      "User-based MF, RMSE =  1.0603799092642756\n"
     ]
    }
   ],
   "source": [
    "# Kết quả nếu sử dụng cách chuẩn hóa dựa trên user:\n",
    "rs = MF(rate_train, K = 10, lam = .1, print_every = 10,\n",
    "       learning_rate = 0.75, max_iter = 100, user_based = 1)\n",
    "rs.fit()\n",
    "# evaluate on test data\n",
    "RMSE = rs.evaluate_RMSE(rate_test)\n",
    "print(\"\\nUser-based MF, RMSE = \", RMSE)"
   ]
  },
  {
   "cell_type": "code",
   "execution_count": 9,
   "metadata": {},
   "outputs": [
    {
     "name": "stdout",
     "output_type": "stream",
     "text": [
      "iter =  10 , loss =  5.602175194984703 , RMSE train =  1.1757328450391253\n",
      "iter =  20 , loss =  2.6107111840466026 , RMSE train =  1.0058381384066855\n",
      "iter =  30 , loss =  1.3211340651786458 , RMSE train =  0.9967209697292754\n",
      "iter =  40 , loss =  0.7334628174829838 , RMSE train =  0.9962267326775326\n",
      "iter =  50 , loss =  0.46414182207763477 , RMSE train =  0.9961872256522686\n",
      "iter =  60 , loss =  0.340645029897718 , RMSE train =  0.9961820194127357\n",
      "iter =  70 , loss =  0.28401214041482 , RMSE train =  0.9961811148485811\n",
      "iter =  80 , loss =  0.2580413317079852 , RMSE train =  0.9961809442068909\n",
      "iter =  90 , loss =  0.24613157253140955 , RMSE train =  0.9961809115366251\n",
      "iter =  100 , loss =  0.24066996132846208 , RMSE train =  0.9961809053023367\n",
      "\n",
      "Item-based MF, RMSE =  1.0498047496748308\n"
     ]
    }
   ],
   "source": [
    "# Nếu chuẩn hóa dựa trên item:\n",
    "rs = MF(rate_train, K = 10, lam = 0.1, print_every = 10, learning_rate = 0.75, max_iter = 100, user_based = 0)\n",
    "rs.fit()\n",
    "# evaluate on test data\n",
    "RMSE = rs.evaluate_RMSE(rate_test)\n",
    "print(\"\\nItem-based MF, RMSE = \", RMSE)"
   ]
  },
  {
   "cell_type": "code",
   "execution_count": 10,
   "metadata": {},
   "outputs": [
    {
     "name": "stdout",
     "output_type": "stream",
     "text": [
      "iter =  10 , loss =  1.167116289379377 , RMSE train =  1.4813935674407408\n",
      "iter =  20 , loss =  1.0993742886414724 , RMSE train =  1.4610897245970773\n",
      "iter =  30 , loss =  1.039320677921228 , RMSE train =  1.4419050125158512\n",
      "iter =  40 , loss =  0.9858104819492165 , RMSE train =  1.4238055684417656\n",
      "iter =  50 , loss =  0.937905980586558 , RMSE train =  1.4067326848424655\n",
      "iter =  60 , loss =  0.8948330267203444 , RMSE train =  1.390621638604563\n",
      "iter =  70 , loss =  0.8559477858019346 , RMSE train =  1.375411184357302\n",
      "iter =  80 , loss =  0.8207111391094593 , RMSE train =  1.3610227787327172\n",
      "iter =  90 , loss =  0.7886687899919884 , RMSE train =  1.3473583310707915\n",
      "iter =  100 , loss =  0.7594356608542788 , RMSE train =  1.3344391712298895\n",
      "\n",
      "Item-based MF, RMSE =  1.4043132980294388\n"
     ]
    }
   ],
   "source": [
    "# Thí nghiệm khi không sử dụng regularization, tức lam = 0:\n",
    "rs = MF(rate_train, K = 2, lam = 0, print_every = 10, learning_rate = 1, max_iter = 100, user_based = 0)\n",
    "rs.fit()\n",
    "# evaluate on test data\n",
    "RMSE = rs.evaluate_RMSE(rate_test)\n",
    "print(\"\\nItem-based MF, RMSE = \", RMSE)"
   ]
  },
  {
   "cell_type": "markdown",
   "metadata": {},
   "source": [
    "### Áp dụng lên MovieLens 1M"
   ]
  },
  {
   "cell_type": "markdown",
   "metadata": {},
   "source": [
    "#### Load data:"
   ]
  },
  {
   "cell_type": "code",
   "execution_count": 11,
   "metadata": {},
   "outputs": [],
   "source": [
    "r_cols = ['user_id', 'movie_id', 'rating', 'unix_timestamp']\n",
    "\n",
    "ratings_base = pd.read_csv('./data/ml-1m/ratings.dat', sep='::', names=r_cols, encoding='latin-1')\n",
    "ratings = ratings_base.as_matrix()\n",
    "\n",
    "# indices in python start from 0\n",
    "ratings[:, :2] -= 1"
   ]
  },
  {
   "cell_type": "markdown",
   "metadata": {},
   "source": [
    "#### Chia data thành 2 tập training và test, sử dụng 1/3 dữ liệu cho test"
   ]
  },
  {
   "cell_type": "code",
   "execution_count": 13,
   "metadata": {},
   "outputs": [
    {
     "name": "stdout",
     "output_type": "stream",
     "text": [
      "(670140, 4) (330069, 4)\n"
     ]
    }
   ],
   "source": [
    "from sklearn.model_selection import train_test_split\n",
    "\n",
    "rate_train, rate_test = train_test_split(ratings, test_size=0.33, random_state=42)\n",
    "print(rate_train.shape, rate_test.shape)"
   ]
  },
  {
   "cell_type": "markdown",
   "metadata": {},
   "source": [
    "#### Áp dụng Matrix Factorization:"
   ]
  },
  {
   "cell_type": "code",
   "execution_count": 14,
   "metadata": {},
   "outputs": [
    {
     "name": "stdout",
     "output_type": "stream",
     "text": [
      "iter =  2 , loss =  6.7401574089219976 , RMSE train =  1.1137394640042062\n",
      "iter =  4 , loss =  4.314541445451102 , RMSE train =  1.0004659161985259\n",
      "iter =  6 , loss =  2.82746439344007 , RMSE train =  0.9778409637708686\n",
      "iter =  8 , loss =  1.886708803952231 , RMSE train =  0.9740022808241607\n",
      "iter =  10 , loss =  1.2864786811133475 , RMSE train =  0.9733753862077495\n",
      "\n",
      "Item-based MF, RMSE =  0.9816181450446788\n"
     ]
    }
   ],
   "source": [
    "rs = MF(rate_train, K=2, lam=0.1, print_every = 2, learning_rate = 2, max_iter = 10, user_based = 0)\n",
    "rs.fit()\n",
    "# evaluate on test data\n",
    "RMSE = rs.evaluate_RMSE(rate_test)\n",
    "print(\"\\nItem-based MF, RMSE = \", RMSE)"
   ]
  },
  {
   "cell_type": "code",
   "execution_count": null,
   "metadata": {},
   "outputs": [],
   "source": []
  }
 ],
 "metadata": {
  "kernelspec": {
   "display_name": "Python 3",
   "language": "python",
   "name": "python3"
  },
  "language_info": {
   "codemirror_mode": {
    "name": "ipython",
    "version": 3
   },
   "file_extension": ".py",
   "mimetype": "text/x-python",
   "name": "python",
   "nbconvert_exporter": "python",
   "pygments_lexer": "ipython3",
   "version": "3.6.5"
  }
 },
 "nbformat": 4,
 "nbformat_minor": 2
}
