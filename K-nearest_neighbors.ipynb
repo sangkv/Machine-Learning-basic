{
 "cells": [
  {
   "cell_type": "code",
   "execution_count": 1,
   "metadata": {},
   "outputs": [],
   "source": [
    "%matplotlib inline\n",
    "\n",
    "import numpy as np\n",
    "import matplotlib.pyplot as plt\n",
    "\n",
    "from sklearn import neighbors, datasets\n",
    "from sklearn.model_selection import train_test_split\n",
    "from sklearn.metrics import accuracy_score"
   ]
  },
  {
   "cell_type": "code",
   "execution_count": 2,
   "metadata": {},
   "outputs": [
    {
     "name": "stdout",
     "output_type": "stream",
     "text": [
      "Number of classes: 3\n",
      "Number of data points: 150\n",
      "\n",
      "Sample from class 0:\n",
      " [[5.1 3.5 1.4 0.2]\n",
      " [4.9 3.  1.4 0.2]\n",
      " [4.7 3.2 1.3 0.2]\n",
      " [4.6 3.1 1.5 0.2]\n",
      " [5.  3.6 1.4 0.2]]\n",
      "\n",
      "Sample from class 0:\n",
      " [[7.  3.2 4.7 1.4]\n",
      " [6.4 3.2 4.5 1.5]\n",
      " [6.9 3.1 4.9 1.5]\n",
      " [5.5 2.3 4.  1.3]\n",
      " [6.5 2.8 4.6 1.5]]\n",
      "\n",
      "Sample from class 0:\n",
      " [[6.3 3.3 6.  2.5]\n",
      " [5.8 2.7 5.1 1.9]\n",
      " [7.1 3.  5.9 2.1]\n",
      " [6.3 2.9 5.6 1.8]\n",
      " [6.5 3.  5.8 2.2]]\n"
     ]
    }
   ],
   "source": [
    "iris = datasets.load_iris()\n",
    "iris_X = iris.data\n",
    "iris_y = iris.target\n",
    "print('Number of classes: %d' %len(np.unique(iris_y)))\n",
    "print('Number of data points: %d' %len(iris_y))\n",
    "\n",
    "X0 = iris_X[iris_y == 0, :]\n",
    "print('\\nSample from class 0:\\n', X0[:5])\n",
    "\n",
    "X1 = iris_X[iris_y == 1, :]\n",
    "print('\\nSample from class 0:\\n', X1[:5])\n",
    "\n",
    "X2 = iris_X[iris_y == 2, :]\n",
    "print('\\nSample from class 0:\\n', X2[:5])"
   ]
  },
  {
   "cell_type": "code",
   "execution_count": 3,
   "metadata": {},
   "outputs": [
    {
     "name": "stdout",
     "output_type": "stream",
     "text": [
      "Train size: 100\n",
      "Test size: 50\n"
     ]
    }
   ],
   "source": [
    "X_train, X_test, y_train, y_test = train_test_split(iris_X, iris_y, test_size=50)\n",
    "\n",
    "print(\"Train size: %d\" %len(y_train))\n",
    "print(\"Test size: %d\" %len(y_test))"
   ]
  },
  {
   "cell_type": "code",
   "execution_count": 4,
   "metadata": {},
   "outputs": [
    {
     "name": "stdout",
     "output_type": "stream",
     "text": [
      "Print results for 20 test data points:\n",
      "Predicted labels:  [2 1 1 2 2 1 2 1 1 0 1 2 0 2 0 1 0 1 0 0]\n",
      "Ground truth:      [2 1 1 2 1 1 2 1 1 0 1 2 0 2 0 1 0 1 0 0]\n"
     ]
    }
   ],
   "source": [
    "clf = neighbors.KNeighborsClassifier(n_neighbors = 1, p = 2) # p=2 (norm 2)\n",
    "clf.fit(X_train, y_train)\n",
    "y_pred = clf.predict(X_test)\n",
    "\n",
    "print(\"Print results for 20 test data points:\")\n",
    "print(\"Predicted labels: \", y_pred[20:40])\n",
    "print(\"Ground truth:     \", y_test[20:40])"
   ]
  },
  {
   "cell_type": "code",
   "execution_count": 5,
   "metadata": {},
   "outputs": [
    {
     "name": "stdout",
     "output_type": "stream",
     "text": [
      "Accuracy of 1NN: 98 %\n"
     ]
    }
   ],
   "source": [
    "print(\"Accuracy of 1NN: %2.f %%\" %(100*accuracy_score(y_test, y_pred)))"
   ]
  },
  {
   "cell_type": "code",
   "execution_count": 6,
   "metadata": {},
   "outputs": [
    {
     "name": "stdout",
     "output_type": "stream",
     "text": [
      "Độ chính các KNN khi k = 1 là: 98 %\n"
     ]
    }
   ],
   "source": [
    "# Viết đánh giá accuracy riêng\n",
    "accuracy = (y_pred == y_test).mean() * 100\n",
    "print(\"Độ chính các KNN khi k = 1 là: %2.f %%\" %accuracy)"
   ]
  },
  {
   "cell_type": "code",
   "execution_count": 7,
   "metadata": {},
   "outputs": [
    {
     "name": "stdout",
     "output_type": "stream",
     "text": [
      "Accuracy of 10NN with major voting: 98.00 %\n"
     ]
    }
   ],
   "source": [
    "# k = 10\n",
    "clf = neighbors.KNeighborsClassifier(n_neighbors = 10, p = 2)\n",
    "clf.fit(X_train, y_train)\n",
    "y_pred = clf.predict(X_test)\n",
    "\n",
    "print (\"Accuracy of 10NN with major voting: %.2f %%\" %(100*accuracy_score(y_test, y_pred)))"
   ]
  },
  {
   "cell_type": "code",
   "execution_count": 8,
   "metadata": {},
   "outputs": [
    {
     "name": "stdout",
     "output_type": "stream",
     "text": [
      "Accuracy of 10NN (1/distance weights): 98.00 %\n"
     ]
    }
   ],
   "source": [
    "# Đánh trọng số\n",
    "clf = neighbors.KNeighborsClassifier(n_neighbors = 10, p = 2, weights = 'distance')\n",
    "clf.fit(X_train, y_train)\n",
    "y_pred = clf.predict(X_test)\n",
    "\n",
    "print (\"Accuracy of 10NN (1/distance weights): %.2f %%\" %(100*accuracy_score(y_test, y_pred)))"
   ]
  },
  {
   "cell_type": "code",
   "execution_count": 10,
   "metadata": {},
   "outputs": [
    {
     "name": "stdout",
     "output_type": "stream",
     "text": [
      "Accuracy of 10NN (customized weights): 98.00 %\n"
     ]
    }
   ],
   "source": [
    "# Viết hàm đánh trọng số neighbors\n",
    "def myweight(distances):\n",
    "    sigma2 = .5 # we can change this number\n",
    "    return np.exp(-distances**2/sigma2)\n",
    "\n",
    "clf = neighbors.KNeighborsClassifier(n_neighbors = 10, p = 2, weights = myweight)\n",
    "clf.fit(X_train, y_train)\n",
    "y_pred = clf.predict(X_test)\n",
    "\n",
    "print (\"Accuracy of 10NN (customized weights): %.2f %%\" %(100*accuracy_score(y_test, y_pred)))"
   ]
  },
  {
   "cell_type": "markdown",
   "metadata": {},
   "source": [
    "## Note:\n",
    "#### 1. Dự đoán kết quả của dữ liệu mới rất đơn giản, phù hợp khi có ít dữ liệu, dữ liệu có số chiều thấp (cái này có lẽ khá quan trọng khi có ít dữ liệu)\n",
    "#### 2. Không cần giả sử về phân phối của các class (cái này khá quan trọng)"
   ]
  },
  {
   "cell_type": "code",
   "execution_count": null,
   "metadata": {},
   "outputs": [],
   "source": []
  }
 ],
 "metadata": {
  "kernelspec": {
   "display_name": "tensor1",
   "language": "python",
   "name": "tensor1"
  },
  "language_info": {
   "codemirror_mode": {
    "name": "ipython",
    "version": 3
   },
   "file_extension": ".py",
   "mimetype": "text/x-python",
   "name": "python",
   "nbconvert_exporter": "python",
   "pygments_lexer": "ipython3",
   "version": "3.6.7"
  }
 },
 "nbformat": 4,
 "nbformat_minor": 2
}
