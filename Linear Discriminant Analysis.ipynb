{
 "cells": [
  {
   "cell_type": "code",
   "execution_count": 1,
   "metadata": {},
   "outputs": [],
   "source": [
    "# To support both python 2 and python 3\n",
    "from __future__ import division, print_function, unicode_literals\n",
    "\n",
    "# list of points\n",
    "import numpy as np\n",
    "import matplotlib.pyplot as plt\n",
    "from matplotlib.backends.backend_pdf import PdfPages\n",
    "np.random.seed(22)"
   ]
  },
  {
   "cell_type": "markdown",
   "metadata": {},
   "source": [
    "### Fake data"
   ]
  },
  {
   "cell_type": "code",
   "execution_count": 2,
   "metadata": {},
   "outputs": [],
   "source": [
    "means = [[0, 5], [5, 0]]\n",
    "cov0 = [[4, 3], [3, 4]]\n",
    "cov1 = [[3, 1], [1, 1]]\n",
    "N0 = 50\n",
    "N1 = 40\n",
    "N = N0 + N1\n",
    "X0 = np.random.multivariate_normal(means[0], cov0, N0) # each row is a data point\n",
    "X1 = np.random.multivariate_normal(means[1], cov1, N1)"
   ]
  },
  {
   "cell_type": "markdown",
   "metadata": {},
   "source": [
    "## LDA"
   ]
  },
  {
   "cell_type": "code",
   "execution_count": 3,
   "metadata": {},
   "outputs": [],
   "source": [
    "# Build S_B\n",
    "m0 = np.mean(X0.T, axis = 1, keepdims = True)\n",
    "m1 = np.mean(X1.T, axis = 1, keepdims = True)\n",
    "\n",
    "a = (m0 - m1)\n",
    "S_B = a.dot(a.T)\n",
    "\n",
    "# Build S_W\n",
    "A = X0.T - np.tile(m0, (1, N0))\n",
    "B = X1.T - np.tile(m1, (1, N1))\n",
    "\n",
    "S_W = A.dot(A.T) + B.dot(B.T)"
   ]
  },
  {
   "cell_type": "code",
   "execution_count": 4,
   "metadata": {},
   "outputs": [
    {
     "name": "stdout",
     "output_type": "stream",
     "text": [
      "[ 0.75091074 -0.66040371]\n"
     ]
    }
   ],
   "source": [
    "_, W = np.linalg.eig(np.linalg.inv(S_W).dot(S_B))\n",
    "w = W[:,0]\n",
    "print(w)"
   ]
  },
  {
   "cell_type": "markdown",
   "metadata": {},
   "source": [
    "## LDA using scikit-learn"
   ]
  },
  {
   "cell_type": "code",
   "execution_count": 5,
   "metadata": {},
   "outputs": [],
   "source": [
    "from sklearn.discriminant_analysis import LinearDiscriminantAnalysis"
   ]
  },
  {
   "cell_type": "code",
   "execution_count": 6,
   "metadata": {},
   "outputs": [
    {
     "data": {
      "text/plain": [
       "LinearDiscriminantAnalysis(n_components=None, priors=None, shrinkage=None,\n",
       "              solver='svd', store_covariance=False, tol=0.0001)"
      ]
     },
     "execution_count": 6,
     "metadata": {},
     "output_type": "execute_result"
    }
   ],
   "source": [
    "X = np.concatenate((X0, X1))\n",
    "y = np.array([0]*N0 + [1]*N1)\n",
    "clf = LinearDiscriminantAnalysis()\n",
    "clf.fit(X, y)"
   ]
  },
  {
   "cell_type": "code",
   "execution_count": 7,
   "metadata": {},
   "outputs": [
    {
     "name": "stdout",
     "output_type": "stream",
     "text": [
      "[[ 0.75091074 -0.66040371]]\n"
     ]
    }
   ],
   "source": [
    "print(clf.coef_/np.linalg.norm(clf.coef_)) # normalize"
   ]
  },
  {
   "cell_type": "code",
   "execution_count": null,
   "metadata": {},
   "outputs": [],
   "source": []
  }
 ],
 "metadata": {
  "kernelspec": {
   "display_name": "Python 3",
   "language": "python",
   "name": "python3"
  },
  "language_info": {
   "codemirror_mode": {
    "name": "ipython",
    "version": 3
   },
   "file_extension": ".py",
   "mimetype": "text/x-python",
   "name": "python",
   "nbconvert_exporter": "python",
   "pygments_lexer": "ipython3",
   "version": "3.6.5"
  }
 },
 "nbformat": 4,
 "nbformat_minor": 2
}
