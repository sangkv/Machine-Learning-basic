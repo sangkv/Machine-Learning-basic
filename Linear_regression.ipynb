{
 "cells": [
  {
   "cell_type": "code",
   "execution_count": 1,
   "metadata": {},
   "outputs": [],
   "source": [
    "#Ví dụ về dự đoán cân nặng với đầu vào là chiều cao sử dụng mô hình Linear Regression\n",
    "#Dựa trên dữ liệu thống kê về chiều cao và cân nặng tương ứng của một số người\n",
    "#Open Source: Machinelearningcoban.com\n",
    "# To Support both python 2 and python 3\n",
    "\n",
    "#Khai bao cac thu vien can thiet, numpy cho dai so tuyen tinh, matplotlib cho viec ve hinh\n",
    "from __future__ import division, print_function, unicode_literals\n",
    "import numpy as np  \n",
    "import matplotlib.pyplot as plt "
   ]
  },
  {
   "cell_type": "code",
   "execution_count": 2,
   "metadata": {},
   "outputs": [
    {
     "data": {
      "image/png": "[encoded data removed]",
      "text/plain": [
       "<Figure size 432x288 with 1 Axes>"
      ]
     },
     "metadata": {},
     "output_type": "display_data"
    }
   ],
   "source": [
    "# B1: Hien thi du lieu tren do thi\n",
    "# Tiếp theo chúng ta khai báo và biểu diễn dữ liệu trên một đồ thị\n",
    "# Height(cm)\n",
    "X = np.array([[147, 150, 153, 158, 163, 165, 168, 170, 173, 175, 178, 180, 183]]).T\n",
    "# Weight(kg)\n",
    "y = np.array([[49, 50, 51, 54, 58, 59, 60, 62, 63, 64, 66, 67, 68]]).T\n",
    "# Visualize data\n",
    "plt.plot(X,y,'ro')\n",
    "plt.axis([140, 190, 45, 75])\n",
    "plt.xlabel('Height (cm)')\n",
    "plt.ylabel('Weight (kg)')\n",
    "plt.show()"
   ]
  },
  {
   "cell_type": "code",
   "execution_count": 3,
   "metadata": {},
   "outputs": [
    {
     "name": "stdout",
     "output_type": "stream",
     "text": [
      "w =  [[-33.73541021]\n",
      " [  0.55920496]]\n"
     ]
    },
    {
     "data": {
      "image/png": "[encoded data removed]",
      "text/plain": [
       "<Figure size 432x288 with 1 Axes>"
      ]
     },
     "metadata": {},
     "output_type": "display_data"
    }
   ],
   "source": [
    "# B2: Nghiệm theo công thức\n",
    "# Building Xbar\n",
    "one = np.ones((X.shape[0],1))\n",
    "Xbar = np.concatenate((one,X), axis = 1)\n",
    "\n",
    "# Calculating weights of the fitting line\n",
    "A = np.dot(Xbar.T, Xbar)\n",
    "b = np.dot(Xbar.T,y)\n",
    "w = np.dot(np.linalg.pinv(A),b)\n",
    "print(\"w = \", w)\n",
    "# Preparing the fitting line\n",
    "w_0 = w[0][0]\n",
    "w_1 = w[1][0]\n",
    "x0 = np.linspace(145, 185, 2)\n",
    "y0 = w_0 + w_1 * x0\n",
    "\n",
    "# Drawing  the fitting line\n",
    "plt.plot(X.T, y.T, 'ro')\t# data\n",
    "plt.plot(x0,y0) \t\t\t# the fitting line\n",
    "plt.axis([140, 190, 45, 75])\n",
    "plt.xlabel('Height (cm)')\n",
    "plt.ylabel('Weight (kg)')\n",
    "plt.show()"
   ]
  },
  {
   "cell_type": "code",
   "execution_count": 4,
   "metadata": {},
   "outputs": [
    {
     "name": "stdout",
     "output_type": "stream",
     "text": [
      "Cân nặng của người có chiều cao 155 cm: 52.94 (kg), real number: 52kg\n",
      "Cân nặng của người có chiều cao 160 cm: 55.74 (kg), real number: 56kg\n"
     ]
    }
   ],
   "source": [
    "# Nghiem\n",
    "y1 = w_1*155 + w_0\n",
    "y2 = w_1*160 + w_0\n",
    "print(\"Cân nặng của người có chiều cao 155 cm: %.2f (kg), real number: 52kg\" %(y1))\n",
    "print(u\"Cân nặng của người có chiều cao 160 cm: %.2f (kg), real number: 56kg\" %(y2))"
   ]
  },
  {
   "cell_type": "markdown",
   "metadata": {},
   "source": [
    "## Nghiệm dùng thư viện scikit-learn"
   ]
  },
  {
   "cell_type": "code",
   "execution_count": 6,
   "metadata": {},
   "outputs": [
    {
     "name": "stdout",
     "output_type": "stream",
     "text": [
      "Solution found  by scikit-learn :  [[-33.73541021   0.55920496]]\n",
      "Solution found by (5):  [[-33.73541021   0.55920496]]\n"
     ]
    }
   ],
   "source": [
    "from sklearn import datasets, linear_model\n",
    "# fit the model by Linear Resression \n",
    "regr = linear_model.LinearRegression(fit_intercept=False) # fit_intercept = False for calculating the bias\n",
    "regr.fit(Xbar,y)\n",
    "# Compare  two results \n",
    "print(\"Solution found  by scikit-learn : \", regr.coef_ )\n",
    "print(\"Solution found by (5): \", w.T)"
   ]
  },
  {
   "cell_type": "code",
   "execution_count": null,
   "metadata": {},
   "outputs": [],
   "source": []
  }
 ],
 "metadata": {
  "kernelspec": {
   "display_name": "Python 3",
   "language": "python",
   "name": "python3"
  },
  "language_info": {
   "codemirror_mode": {
    "name": "ipython",
    "version": 3
   },
   "file_extension": ".py",
   "mimetype": "text/x-python",
   "name": "python",
   "nbconvert_exporter": "python",
   "pygments_lexer": "ipython3",
   "version": "3.6.5"
  }
 },
 "nbformat": 4,
 "nbformat_minor": 2
}
