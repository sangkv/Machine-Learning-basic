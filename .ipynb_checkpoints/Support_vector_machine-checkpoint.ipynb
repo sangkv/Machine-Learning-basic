{
 "cells": [
  {
   "cell_type": "code",
   "execution_count": 17,
   "metadata": {},
   "outputs": [],
   "source": [
    "from matplotlib import rc\n",
    "rc('font',**{'family':'sans-serif','sans-serif':['Helvetica']})\n",
    "## for Palatino and other serif fonts use:\n",
    "#rc('font',**{'family':'serif','serif':['Palatino']})\n",
    "rc('text', usetex=True)"
   ]
  },
  {
   "cell_type": "code",
   "execution_count": 18,
   "metadata": {},
   "outputs": [],
   "source": [
    "from __future__ import print_function\n",
    "\n",
    "import numpy as np \n",
    "import matplotlib.pyplot as plt\n",
    "from scipy.spatial.distance import cdist\n",
    "np.random.seed(22)"
   ]
  },
  {
   "cell_type": "markdown",
   "metadata": {},
   "source": [
    "### Create data"
   ]
  },
  {
   "cell_type": "code",
   "execution_count": 19,
   "metadata": {},
   "outputs": [],
   "source": [
    "# Tạo dữ liệu giả, dữ liệu này là linearly seperable\n",
    "means = [[2, 2], [4, 2]]\n",
    "cov = [[.3, .2], [.2, .3]]\n",
    "N = 10\n",
    "X0 = np.random.multivariate_normal(means[0], cov, N) # class 1\n",
    "X1 = np.random.multivariate_normal(means[1], cov, N) # class -1 \n",
    "X = np.concatenate((X0.T, X1.T), axis = 1) # all data \n",
    "y = np.concatenate((np.ones((1, N)), -1*np.ones((1, N))), axis = 1) # labels "
   ]
  },
  {
   "cell_type": "code",
   "execution_count": 20,
   "metadata": {},
   "outputs": [
    {
     "data": {
      "image/png": "[encoded data removed]",
      "text/plain": [
       "<Figure size 432x288 with 1 Axes>"
      ]
     },
     "metadata": {},
     "output_type": "display_data"
    }
   ],
   "source": [
    "# plot points\n",
    "#ani = plt.plot(X0[0, :], X0[1, :], 'b^', markersize = 8, alpha = .8)\n",
    "# plot points\n",
    "plt.plot(X0[:, 0], X0[:, 1], 'bs', markersize = 8, alpha = .8)\n",
    "plt.plot(X1[:, 0], X1[:, 1], 'ro', markersize = 8, alpha = .8)\n",
    "plt.axis('equal')\n",
    "# axis limits\n",
    "plt.ylim(0, 3)\n",
    "plt.xlim(2, 4)\n",
    "\n",
    "\n",
    "# hide tikcs \n",
    "cur_axes = plt.gca()\n",
    "cur_axes.axes.get_xaxis().set_ticks([])\n",
    "cur_axes.axes.get_yaxis().set_ticks([])\n",
    "\n",
    "plt.xlabel('$x_1$', fontsize = 20)\n",
    "plt.ylabel('$x_2$', fontsize = 20)\n",
    "# pdf.savefig()\n",
    "plt.show()"
   ]
  },
  {
   "cell_type": "markdown",
   "metadata": {},
   "source": [
    "## Tìm nghiệm sử dụng CVXOPT"
   ]
  },
  {
   "cell_type": "code",
   "execution_count": 21,
   "metadata": {},
   "outputs": [
    {
     "name": "stdout",
     "output_type": "stream",
     "text": [
      "lambda = \n",
      "[[8.54018321e-01 2.89132533e-10 1.37095535e+00 6.36030818e-10\n",
      "  4.04317408e-10 8.82390106e-10 6.35001881e-10 5.49567576e-10\n",
      "  8.33359230e-10 1.20982928e-10 6.86678649e-10 1.25039745e-10\n",
      "  2.22497367e+00 4.05417905e-09 1.26763684e-10 1.99008949e-10\n",
      "  2.13742578e-10 1.51537487e-10 3.75329509e-10 3.56161975e-10]]\n"
     ]
    }
   ],
   "source": [
    "from cvxopt import matrix, solvers\n",
    "# build K\n",
    "V = np.concatenate((X0.T, -X1.T), axis = 1)\n",
    "K = matrix(V.T.dot(V)) # see definition of V, K near eq (8)\n",
    "\n",
    "p = matrix(-np.ones((2*N, 1))) # all-one vector \n",
    "# build A, b, G, h \n",
    "G = matrix(-np.eye(2*N)) # for all lambda_n >= 0\n",
    "h = matrix(np.zeros((2*N, 1)))\n",
    "A = matrix(y) # the equality constrain is actually y^T lambda = 0\n",
    "b = matrix(np.zeros((1, 1))) \n",
    "solvers.options['show_progress'] = False\n",
    "sol = solvers.qp(K, p, G, h, A, b)\n",
    "\n",
    "l = np.array(sol['x'])\n",
    "print('lambda = ')\n",
    "print(l.T)"
   ]
  },
  {
   "cell_type": "code",
   "execution_count": 22,
   "metadata": {},
   "outputs": [
    {
     "name": "stdout",
     "output_type": "stream",
     "text": [
      "w =  [[-2.00984381  0.64068336]]\n",
      "b =  4.668560633868066\n"
     ]
    }
   ],
   "source": [
    "epsilon = 1e-6 # just a small number, greater than 1e-9\n",
    "S = np.where(l > epsilon)[0]\n",
    "\n",
    "VS = V[:, S]\n",
    "XS = X[:, S]\n",
    "yS = y[:, S]\n",
    "lS = l[S]\n",
    "# calculate w and b\n",
    "w = VS.dot(lS)\n",
    "b = np.mean(yS.T - w.T.dot(XS))\n",
    "\n",
    "print('w = ', w.T)\n",
    "print('b = ', b)"
   ]
  },
  {
   "cell_type": "code",
   "execution_count": 23,
   "metadata": {},
   "outputs": [
    {
     "data": {
      "image/png": "[encoded data removed]",
      "text/plain": [
       "<Figure size 432x288 with 1 Axes>"
      ]
     },
     "metadata": {},
     "output_type": "display_data"
    }
   ],
   "source": [
    "from matplotlib.backends.backend_pdf import PdfPages\n",
    "with PdfPages('./data/svm_plot/svm4.pdf') as pdf:\n",
    "    # draw\n",
    "    # plot points\n",
    "    fig, ax = plt.subplots()\n",
    "\n",
    "    x1 = np.arange(-10, 10, 0.1)\n",
    "    y1 = -w[0, 0]/w[1, 0]*x1 - b/w[1, 0]\n",
    "    y2 = -w[0, 0]/w[1, 0]*x1 - (b-1)/w[1, 0]\n",
    "    y3 = -w[0, 0]/w[1, 0]*x1 - (b+1)/w[1, 0]\n",
    "    plt.plot(x1, y1, 'k', linewidth = 3)\n",
    "    plt.plot(x1, y2, 'k')\n",
    "    plt.plot(x1, y3, 'k')\n",
    "\n",
    "\n",
    "    y4 = 10*x1\n",
    "    plt.plot(x1, y1, 'k')\n",
    "    plt.fill_between(x1, y1, color='red', alpha=0.1)\n",
    "    plt.fill_between(x1, y1, y4, color = 'blue', alpha = .1)\n",
    "\n",
    "\n",
    "    plt.plot(X0[:, 0], X0[:, 1], 'bs', markersize = 8, alpha = .8)\n",
    "    plt.plot(X1[:, 0], X1[:, 1], 'ro', markersize = 8, alpha = .8)\n",
    "\n",
    "    plt.axis('equal')\n",
    "    plt.ylim(0, 3)\n",
    "    plt.xlim(2, 4)\n",
    "\n",
    "    # hide tikcs \n",
    "    cur_axes = plt.gca()\n",
    "    cur_axes.axes.get_xaxis().set_ticks([])\n",
    "    cur_axes.axes.get_yaxis().set_ticks([])\n",
    "\n",
    "    # add circles around support vectors \n",
    "    for m in S:\n",
    "        circle = plt.Circle((X[0, m], X[1, m] ), 0.1, color='k', fill = False)\n",
    "        ax.add_artist(circle)\n",
    "\n",
    "\n",
    "    plt.xlabel('$x_1$', fontsize = 20)\n",
    "    plt.ylabel('$x_2$', fontsize = 20)\n",
    "    plt.savefig('./data/svm4.png', bbox_inches='tight', dpi = 300)\n",
    "    pdf.savefig()\n",
    "    plt.show()"
   ]
  },
  {
   "cell_type": "markdown",
   "metadata": {},
   "source": [
    "## Solution by scikit-learn"
   ]
  },
  {
   "cell_type": "code",
   "execution_count": 24,
   "metadata": {},
   "outputs": [
    {
     "name": "stdout",
     "output_type": "stream",
     "text": [
      "w =  [[-2.00971102  0.64194082]]\n",
      "b =  [4.66595309]\n"
     ]
    }
   ],
   "source": [
    "from sklearn.svm import SVC\n",
    "\n",
    "y1 = y.reshape((2*N,))\n",
    "X1 = X.T # each sample is one row\n",
    "clf = SVC(kernel = 'linear', C = 1e5) # just a big number \n",
    "\n",
    "clf.fit(X1, y1) \n",
    "\n",
    "w = clf.coef_\n",
    "b = clf.intercept_\n",
    "print('w = ', w)\n",
    "print('b = ', b)"
   ]
  },
  {
   "cell_type": "code",
   "execution_count": null,
   "metadata": {},
   "outputs": [],
   "source": []
  }
 ],
 "metadata": {
  "kernelspec": {
   "display_name": "tensor1",
   "language": "python",
   "name": "tensor1"
  },
  "language_info": {
   "codemirror_mode": {
    "name": "ipython",
    "version": 3
   },
   "file_extension": ".py",
   "mimetype": "text/x-python",
   "name": "python",
   "nbconvert_exporter": "python",
   "pygments_lexer": "ipython3",
   "version": "3.6.7"
  }
 },
 "nbformat": 4,
 "nbformat_minor": 2
}
